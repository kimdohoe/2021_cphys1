{
 "cells": [
  {
   "cell_type": "code",
   "execution_count": 1,
   "metadata": {},
   "outputs": [],
   "source": [
    "import numpy as np"
   ]
  },
  {
   "cell_type": "code",
   "execution_count": 3,
   "metadata": {},
   "outputs": [
    {
     "data": {
      "text/plain": [
       "(array([ 1., -1.]),\n",
       " array([[ 0.70710678, -0.70710678],\n",
       "        [ 0.70710678,  0.70710678]]))"
      ]
     },
     "execution_count": 3,
     "metadata": {},
     "output_type": "execute_result"
    }
   ],
   "source": [
    "Sx = np.array([[0.0, 1.0],\n",
    "               [1.0, 0.0]])\n",
    "eigenvalue_x, eigenvector_x = np.linalg.eig(Sx)\n",
    "eigenvalue_x, eigenvector_x"
   ]
  },
  {
   "cell_type": "code",
   "execution_count": 4,
   "metadata": {},
   "outputs": [
    {
     "data": {
      "text/plain": [
       "(array([ 1.+0.j, -1.+0.j]),\n",
       " array([[-0.        -0.70710678j,  0.70710678+0.j        ],\n",
       "        [ 0.70710678+0.j        ,  0.        -0.70710678j]]))"
      ]
     },
     "execution_count": 4,
     "metadata": {},
     "output_type": "execute_result"
    }
   ],
   "source": [
    "Sy = np.array([[0.0, -1.0j],\n",
    "               [1.0j, 0.0]])\n",
    "eigenvalue_y, eigenvector_y = np.linalg.eig(Sy)\n",
    "eigenvalue_y, eigenvector_y"
   ]
  },
  {
   "cell_type": "code",
   "execution_count": 5,
   "metadata": {},
   "outputs": [
    {
     "data": {
      "text/plain": [
       "(array([ 1., -1.]),\n",
       " array([[1., 0.],\n",
       "        [0., 1.]]))"
      ]
     },
     "execution_count": 5,
     "metadata": {},
     "output_type": "execute_result"
    }
   ],
   "source": [
    "Sz = np.array([[1.0, 0.0],\n",
    "              [0.0, -1.0]])\n",
    "eigenvalue_z, eigenvector_z = np.linalg.eig(Sz)\n",
    "eigenvalue_z, eigenvector_z"
   ]
  },
  {
   "cell_type": "code",
   "execution_count": 6,
   "metadata": {},
   "outputs": [
    {
     "data": {
      "text/plain": [
       "(array([3., 1.]),\n",
       " array([[ 0.70710678,  0.70710678],\n",
       "        [-0.70710678,  0.70710678]]))"
      ]
     },
     "execution_count": 6,
     "metadata": {},
     "output_type": "execute_result"
    }
   ],
   "source": [
    "coef_mat = np.array([[2.0, -1.0],\n",
    "                     [-1.0, 2.0]])\n",
    "eigenvalue_coef_mat, eigenvector_coef_mat = np.linalg.eig(coef_mat)\n",
    "eigenvalue_coef_mat, eigenvector_coef_mat"
   ]
  },
  {
   "cell_type": "markdown",
   "metadata": {},
   "source": [
    "아이겐벨류는 (3,1), 아이겐벡터는 (0.70710678,0.70710678)이 나왔는데,\n",
    "\n",
    "$\\lambda$값을 대입해 $x_1$과 $x_2$의 비율인 아이겐벡터를 계산하여 물체의 노말모드를 관찰할 수 있다.\n",
    "\n",
    "아이겐벨류($\\lambda$)가 1일 때에는 $x_1$값과$x_2$값이 같기 때문에 두 물체가 똑같이 운동하는 걸 관찰할 수 있고,\n",
    "\n",
    "아이겐벨류($\\lambda$)가 3일 때에는 $x_1$값과$x_2$값이 부호가 반대여서 같은 크기로 운동을 하지만 방향이 반대라는 것을 관찰할 수 있다.\n",
    "\n",
    "$w_1$은 한쪽이 최대값을 가질 때 다른 쪽은 최솟값을 갖는 위상각이 180도 다르고 같은 속도 반대방향으로 운동하고,\n",
    "\n",
    "$w_2$는 위상,속도,방향이 모두 같다.\n"
   ]
  },
  {
   "cell_type": "markdown",
   "metadata": {},
   "source": [
    "아이겐벡터를 쪼갤 수 있기 때문에 계의 모든 진동을 고유벡터, 고유값과 관련 된 normal mode들로 선형결합하여 표현할 수 있다."
   ]
  },
  {
   "cell_type": "code",
   "execution_count": null,
   "metadata": {},
   "outputs": [],
   "source": []
  }
 ],
 "metadata": {
  "kernelspec": {
   "display_name": "Python 3",
   "language": "python",
   "name": "python3"
  },
  "language_info": {
   "codemirror_mode": {
    "name": "ipython",
    "version": 3
   },
   "file_extension": ".py",
   "mimetype": "text/x-python",
   "name": "python",
   "nbconvert_exporter": "python",
   "pygments_lexer": "ipython3",
   "version": "3.8.5"
  }
 },
 "nbformat": 4,
 "nbformat_minor": 4
}
