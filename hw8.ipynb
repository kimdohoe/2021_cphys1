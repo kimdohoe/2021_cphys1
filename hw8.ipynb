{
 "cells": [
  {
   "cell_type": "code",
   "execution_count": 2,
   "metadata": {},
   "outputs": [],
   "source": [
    "import random\n",
    "import numpy as np"
   ]
  },
  {
   "cell_type": "code",
   "execution_count": 160,
   "metadata": {},
   "outputs": [],
   "source": [
    "#3차원\n",
    "def s(n):\n",
    "    count=0\n",
    "    for i in range(n):\n",
    "        x,y,z=random.random(),random.random(),random.random()\n",
    "        if x**2+y**2+z**2<1:\n",
    "            count+=1\n",
    "    return (2**3*count)/n"
   ]
  },
  {
   "cell_type": "code",
   "execution_count": 161,
   "metadata": {},
   "outputs": [
    {
     "data": {
      "text/plain": [
       "4.1896"
      ]
     },
     "execution_count": 161,
     "metadata": {},
     "output_type": "execute_result"
    }
   ],
   "source": [
    "s(10000)"
   ]
  },
  {
   "cell_type": "code",
   "execution_count": 162,
   "metadata": {},
   "outputs": [],
   "source": [
    "#4차원\n",
    "def s(n):\n",
    "    count=0\n",
    "    for i in range(n):\n",
    "        x,y,z,j=random.random(),random.random(),random.random(),random.random()\n",
    "        if x**2+y**2+z**2+j**2<1:\n",
    "            count+=1\n",
    "    return (2**4*count)/n"
   ]
  },
  {
   "cell_type": "code",
   "execution_count": 163,
   "metadata": {},
   "outputs": [
    {
     "data": {
      "text/plain": [
       "5.0048"
      ]
     },
     "execution_count": 163,
     "metadata": {},
     "output_type": "execute_result"
    }
   ],
   "source": [
    "s(10000)"
   ]
  },
  {
   "cell_type": "code",
   "execution_count": 164,
   "metadata": {},
   "outputs": [],
   "source": [
    "#5차원\n",
    "def s(n):\n",
    "    count=0\n",
    "    for i in range(n):\n",
    "        x,y,z,j,k=random.random(),random.random(),random.random(),random.random(),random.random()\n",
    "        if x**2+y**2+z**2+j**2+k**2<1:\n",
    "            count+=1\n",
    "    return (2**5*count)/n"
   ]
  },
  {
   "cell_type": "code",
   "execution_count": 165,
   "metadata": {},
   "outputs": [
    {
     "data": {
      "text/plain": [
       "5.28"
      ]
     },
     "execution_count": 165,
     "metadata": {},
     "output_type": "execute_result"
    }
   ],
   "source": [
    "s(10000)"
   ]
  },
  {
   "cell_type": "markdown",
   "metadata": {},
   "source": []
  },
  {
   "cell_type": "code",
   "execution_count": 144,
   "metadata": {},
   "outputs": [],
   "source": [
    "import random\n",
    "import numpy as np\n",
    "import matplotlib.pyplot as plt"
   ]
  },
  {
   "cell_type": "code",
   "execution_count": 146,
   "metadata": {},
   "outputs": [],
   "source": [
    "def ave1(b1,n):\n",
    "    states=np.ones(n)\n",
    "    for t in range(n**2):\n",
    "        i=random.randint(0,n-1)\n",
    "        DE=-2*states[i]\n",
    "        if DE<0:\n",
    "            states[i]=-1*states[i]\n",
    "        elif random.random()<np.exp(-b1*DE):\n",
    "            states[i]=-1*states[i]\n",
    "    return sum(states)"
   ]
  },
  {
   "cell_type": "code",
   "execution_count": 147,
   "metadata": {},
   "outputs": [],
   "source": [
    "def ave2(b2,n):\n",
    "    states=np.ones(n)\n",
    "    for t in range(n**2):\n",
    "        i=random.randint(0,n-1)\n",
    "        DE=-2*states[i]\n",
    "        if DE<0:\n",
    "            states[i]=-1*states[i]\n",
    "        elif random.random()<np.exp(-b2*DE):\n",
    "            states[i]=-1*states[i]\n",
    "    return sum(states)"
   ]
  },
  {
   "cell_type": "code",
   "execution_count": 148,
   "metadata": {},
   "outputs": [],
   "source": [
    "def ave3(b3,n):\n",
    "    states=np.ones(n)\n",
    "    for t in range(n**2):\n",
    "        i=random.randint(0,n-1)\n",
    "        DE=-2*states[i]\n",
    "        if DE<0:\n",
    "            states[i]=-1*states[i]\n",
    "        elif random.random()<np.exp(-b3*DE):\n",
    "            states[i]=-1*states[i]\n",
    "    return sum(states)"
   ]
  },
  {
   "cell_type": "code",
   "execution_count": 182,
   "metadata": {},
   "outputs": [],
   "source": [
    "temp1=np.arange(1,20,2)\n",
    "y1=[ave1(1/t,1000) for t in temp1]\n",
    "b1=np.arange(1,20,0.1)\n",
    "th1=-1000*np.tanh(1/b1)\n",
    "\n",
    "temp2=np.arange(1,20,2)\n",
    "y2=[ave2(1/t,1000) for t in temp2]\n",
    "b2=np.arange(1,20,0.1)\n",
    "th2=-1000*np.tanh(1/b2)\n",
    "\n",
    "temp3=np.arange(1,20,2)\n",
    "y3=[ave3(1/t,1000) for t in temp3]\n",
    "b3=np.arange(1,20.1)\n",
    "th3=-1000*np.tanh(1/b3)"
   ]
  },
  {
   "cell_type": "code",
   "execution_count": 183,
   "metadata": {
    "scrolled": false
   },
   "outputs": [
    {
     "data": {
      "image/png": "[encoded data removed]",
      "text/plain": [
       "<Figure size 432x288 with 1 Axes>"
      ]
     },
     "metadata": {
      "needs_background": "light"
     },
     "output_type": "display_data"
    }
   ],
   "source": [
    "plt.xlabel('temperature')\n",
    "plt.ylabel('<E>')\n",
    "plt.plot(temp1,y1,'o',color='black')\n",
    "plt.plot(b1,th1);\n",
    "plt.plot(temp2,y2,'o',color='red')\n",
    "plt.plot(b2,th2);\n",
    "plt.plot(temp3,y1,'o',color='brown')\n",
    "plt.plot(b3,th3);"
   ]
  },
  {
   "cell_type": "code",
   "execution_count": null,
   "metadata": {},
   "outputs": [],
   "source": []
  },
  {
   "cell_type": "code",
   "execution_count": null,
   "metadata": {},
   "outputs": [],
   "source": []
  },
  {
   "cell_type": "code",
   "execution_count": null,
   "metadata": {},
   "outputs": [],
   "source": []
  },
  {
   "cell_type": "code",
   "execution_count": null,
   "metadata": {},
   "outputs": [],
   "source": []
  },
  {
   "cell_type": "code",
   "execution_count": null,
   "metadata": {},
   "outputs": [],
   "source": []
  }
 ],
 "metadata": {
  "kernelspec": {
   "display_name": "Python 3",
   "language": "python",
   "name": "python3"
  },
  "language_info": {
   "codemirror_mode": {
    "name": "ipython",
    "version": 3
   },
   "file_extension": ".py",
   "mimetype": "text/x-python",
   "name": "python",
   "nbconvert_exporter": "python",
   "pygments_lexer": "ipython3",
   "version": "3.8.5"
  }
 },
 "nbformat": 4,
 "nbformat_minor": 4
}
