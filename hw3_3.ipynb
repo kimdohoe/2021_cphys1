{
 "cells": [
  {
   "cell_type": "code",
   "execution_count": 5,
   "metadata": {},
   "outputs": [],
   "source": [
    "import math"
   ]
  },
  {
   "cell_type": "code",
   "execution_count": 6,
   "metadata": {},
   "outputs": [],
   "source": [
    "import numpy as np\n",
    "import matplotlib.pyplot as plt"
   ]
  },
  {
   "cell_type": "code",
   "execution_count": 7,
   "metadata": {},
   "outputs": [
    {
     "data": {
      "text/plain": [
       "[<matplotlib.lines.Line2D at 0xd5080386a0>]"
      ]
     },
     "execution_count": 7,
     "metadata": {},
     "output_type": "execute_result"
    },
    {
     "data": {
      "image/png": "[encoded data removed]",
      "text/plain": [
       "<Figure size 432x288 with 1 Axes>"
      ]
     },
     "metadata": {
      "needs_background": "light"
     },
     "output_type": "display_data"
    }
   ],
   "source": [
    "a=np.arange(-100,100,0.01)\n",
    "b=[np.sinc(x) for x in a]\n",
    "\n",
    "plt.plot(a,b)"
   ]
  },
  {
   "cell_type": "code",
   "execution_count": 11,
   "metadata": {},
   "outputs": [
    {
     "ename": "NameError",
     "evalue": "name 'x' is not defined",
     "output_type": "error",
     "traceback": [
      "\u001b[1;31m---------------------------------------------------------------------------\u001b[0m",
      "\u001b[1;31mNameError\u001b[0m                                 Traceback (most recent call last)",
      "\u001b[1;32m<ipython-input-11-962feb03331a>\u001b[0m in \u001b[0;36m<module>\u001b[1;34m\u001b[0m\n\u001b[0;32m      6\u001b[0m \u001b[1;33m\u001b[0m\u001b[0m\n\u001b[0;32m      7\u001b[0m \u001b[1;32mfor\u001b[0m \u001b[0mj\u001b[0m \u001b[1;32min\u001b[0m \u001b[0mrange\u001b[0m\u001b[1;33m(\u001b[0m\u001b[1;36m100\u001b[0m\u001b[1;33m)\u001b[0m\u001b[1;33m:\u001b[0m\u001b[1;33m\u001b[0m\u001b[1;33m\u001b[0m\u001b[0m\n\u001b[1;32m----> 8\u001b[1;33m     \u001b[0mprint\u001b[0m\u001b[1;33m(\u001b[0m\u001b[0msinc\u001b[0m\u001b[1;33m(\u001b[0m\u001b[0mx\u001b[0m\u001b[1;33m,\u001b[0m\u001b[0mj\u001b[0m\u001b[1;33m)\u001b[0m\u001b[1;33m)\u001b[0m\u001b[1;33m\u001b[0m\u001b[1;33m\u001b[0m\u001b[0m\n\u001b[0m",
      "\u001b[1;31mNameError\u001b[0m: name 'x' is not defined"
     ]
    }
   ],
   "source": [
    "def sinc(x,n):\n",
    "    f=0\n",
    "    for i in range(n):\n",
    "        f += (-1)**i*x**(2*i)/math.factorial(2*i+1)\n",
    "        return f\n",
    "    \n",
    "for j in range(100):\n",
    "    print(sinc(x,j))"
   ]
  },
  {
   "cell_type": "code",
   "execution_count": 12,
   "metadata": {},
   "outputs": [],
   "source": [
    "x=[i for i in range(1,100)]\n",
    "y=np.sin(x)"
   ]
  },
  {
   "cell_type": "code",
   "execution_count": 13,
   "metadata": {},
   "outputs": [
    {
     "data": {
      "text/plain": [
       "array([[ 0.84147098,  0.90929743,  0.14112001, -0.7568025 , -0.95892427,\n",
       "        -0.2794155 ,  0.6569866 ,  0.98935825,  0.41211849, -0.54402111,\n",
       "        -0.99999021, -0.53657292,  0.42016704,  0.99060736,  0.65028784,\n",
       "        -0.28790332, -0.96139749, -0.75098725,  0.14987721,  0.91294525,\n",
       "         0.83665564, -0.00885131, -0.8462204 , -0.90557836, -0.13235175,\n",
       "         0.76255845,  0.95637593,  0.27090579, -0.66363388, -0.98803162,\n",
       "        -0.40403765,  0.55142668,  0.99991186,  0.52908269, -0.42818267,\n",
       "        -0.99177885, -0.64353813,  0.29636858,  0.96379539,  0.74511316,\n",
       "        -0.15862267, -0.91652155, -0.83177474,  0.01770193,  0.85090352,\n",
       "         0.90178835,  0.12357312, -0.76825466, -0.95375265, -0.26237485,\n",
       "         0.67022918,  0.98662759,  0.39592515, -0.55878905, -0.99975517,\n",
       "        -0.521551  ,  0.43616476,  0.99287265,  0.63673801, -0.30481062,\n",
       "        -0.96611777, -0.7391807 ,  0.1673557 ,  0.92002604,  0.82682868,\n",
       "        -0.02655115, -0.85551998, -0.89792768, -0.11478481,  0.77389068,\n",
       "         0.95105465,  0.25382336, -0.67677196, -0.98514626, -0.38778164,\n",
       "         0.56610764,  0.99952016,  0.51397846, -0.44411267, -0.99388865,\n",
       "        -0.62988799,  0.31322878,  0.96836446,  0.73319032, -0.17607562,\n",
       "        -0.92345845, -0.82181784,  0.0353983 ,  0.86006941,  0.89399666,\n",
       "         0.10598751, -0.77946607, -0.94828214, -0.24525199,  0.68326171,\n",
       "         0.98358775,  0.37960774, -0.57338187, -0.99920683]])"
      ]
     },
     "execution_count": 13,
     "metadata": {},
     "output_type": "execute_result"
    }
   ],
   "source": [
    "np.sin([x])"
   ]
  },
  {
   "cell_type": "code",
   "execution_count": null,
   "metadata": {},
   "outputs": [],
   "source": []
  }
 ],
 "metadata": {
  "kernelspec": {
   "display_name": "Python 3",
   "language": "python",
   "name": "python3"
  },
  "language_info": {
   "codemirror_mode": {
    "name": "ipython",
    "version": 3
   },
   "file_extension": ".py",
   "mimetype": "text/x-python",
   "name": "python",
   "nbconvert_exporter": "python",
   "pygments_lexer": "ipython3",
   "version": "3.8.5"
  }
 },
 "nbformat": 4,
 "nbformat_minor": 4
}
